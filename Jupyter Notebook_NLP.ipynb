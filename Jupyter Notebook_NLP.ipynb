{
 "cells": [
  {
   "cell_type": "markdown",
   "id": "9ef8412d",
   "metadata": {},
   "source": [
    "# Machine Learning Pipelines for an Automated Spam Filter"
   ]
  },
  {
   "cell_type": "markdown",
   "id": "8d8e571c",
   "metadata": {},
   "source": [
    "## Introduction"
   ]
  },
  {
   "cell_type": "raw",
   "id": "c79c9916",
   "metadata": {},
   "source": [
    "#TNM 03032021\n",
    "Text classification is one the key tasks in NLP with broad applications in; Sentiment analysis,CRM automation, Topic labelling, Spam dection, among others. Spam filters detect unsolicited, unwanted, and virus infested emails/messages and block the from getting into our emails. Pretty much all of the major email service providers have spam detection systems built to automatically classify such mails as \"Spam\".\n",
    "\n",
    "In this project Machine Learning Pipelines based on a number of Supervised algorithms are created, optimized and consequently trained to classify SMS messages as \"spam\" or \"ham\" (not spam) based on the dataset, \"SMSSpamCollection\"  obtained from the UCI Machine Learning repository.\n",
    "https://archive.ics.uci.edu/ml/datasets/sms+spam+collection. \n",
    "\n",
    "An important observation that was made is that the data is highly imbalanced and therefore,a comparison of the models under different evaluation schemes is presented at the tail end of the project and conclusions made. \n",
    "\n",
    "The Notebook follows this Outline:\n",
    "1. Importing helpers and the Dataset\n",
    "2. Exploratory Data Analysis \n",
    "3. Data Pre-processing\n",
    "4. Learning ML classifiers\n",
    "5. Constructing ML Pipelines\n",
    "6. Results comparison and Conclusion"
   ]
  },
  {
   "cell_type": "markdown",
   "id": "9ebd54c5",
   "metadata": {},
   "source": [
    "## 1. Dataset and Libraries"
   ]
  },
  {
   "cell_type": "markdown",
   "id": "prospective-parade",
   "metadata": {},
   "source": [
    "### Importing libraries"
   ]
  },
  {
   "cell_type": "code",
   "execution_count": 2,
   "id": "boolean-modem",
   "metadata": {},
   "outputs": [],
   "source": [
    "#TNM 03032021\n",
    "import numpy as np\n",
    "import pandas as pd\n",
    "import matplotlib.pyplot as plt\n",
    "%matplotlib inline\n",
    "import seaborn as sns\n",
    "from wordcloud import WordCloud"
   ]
  },
  {
   "cell_type": "markdown",
   "id": "rapid-australian",
   "metadata": {},
   "source": [
    "### Loading the dataset"
   ]
  },
  {
   "cell_type": "code",
   "execution_count": 3,
   "id": "authentic-shape",
   "metadata": {},
   "outputs": [],
   "source": [
    "dataset=pd.read_csv('SMSSpamCollection', sep='\\t') # Loads the dataset into a dataframe\n",
    "#Take note that dataset is tab separated,hence the option sep='\\t'"
   ]
  },
  {
   "cell_type": "markdown",
   "id": "sustainable-nursery",
   "metadata": {},
   "source": [
    "## 2. Exploratory Data Analysis (EDA)"
   ]
  },
  {
   "cell_type": "markdown",
   "id": "9fb3a4ba",
   "metadata": {},
   "source": [
    "We carry out an Exploratory Data Analysis exercise to provide a bird's view of the main characteristics of the datset. "
   ]
  },
  {
   "cell_type": "code",
   "execution_count": 4,
   "id": "b202df66",
   "metadata": {},
   "outputs": [
    {
     "data": {
      "text/html": [
       "<div>\n",
       "<style scoped>\n",
       "    .dataframe tbody tr th:only-of-type {\n",
       "        vertical-align: middle;\n",
       "    }\n",
       "\n",
       "    .dataframe tbody tr th {\n",
       "        vertical-align: top;\n",
       "    }\n",
       "\n",
       "    .dataframe thead th {\n",
       "        text-align: right;\n",
       "    }\n",
       "</style>\n",
       "<table border=\"1\" class=\"dataframe\">\n",
       "  <thead>\n",
       "    <tr style=\"text-align: right;\">\n",
       "      <th></th>\n",
       "      <th>labels</th>\n",
       "      <th>message</th>\n",
       "    </tr>\n",
       "  </thead>\n",
       "  <tbody>\n",
       "    <tr>\n",
       "      <th>0</th>\n",
       "      <td>ham</td>\n",
       "      <td>Go until jurong point, crazy.. Available only ...</td>\n",
       "    </tr>\n",
       "    <tr>\n",
       "      <th>1</th>\n",
       "      <td>ham</td>\n",
       "      <td>Ok lar... Joking wif u oni...</td>\n",
       "    </tr>\n",
       "    <tr>\n",
       "      <th>2</th>\n",
       "      <td>spam</td>\n",
       "      <td>Free entry in 2 a wkly comp to win FA Cup fina...</td>\n",
       "    </tr>\n",
       "    <tr>\n",
       "      <th>3</th>\n",
       "      <td>ham</td>\n",
       "      <td>U dun say so early hor... U c already then say...</td>\n",
       "    </tr>\n",
       "    <tr>\n",
       "      <th>4</th>\n",
       "      <td>ham</td>\n",
       "      <td>Nah I don't think he goes to usf, he lives aro...</td>\n",
       "    </tr>\n",
       "  </tbody>\n",
       "</table>\n",
       "</div>"
      ],
      "text/plain": [
       "  labels                                            message\n",
       "0    ham  Go until jurong point, crazy.. Available only ...\n",
       "1    ham                      Ok lar... Joking wif u oni...\n",
       "2   spam  Free entry in 2 a wkly comp to win FA Cup fina...\n",
       "3    ham  U dun say so early hor... U c already then say...\n",
       "4    ham  Nah I don't think he goes to usf, he lives aro..."
      ]
     },
     "execution_count": 4,
     "metadata": {},
     "output_type": "execute_result"
    }
   ],
   "source": [
    "dataset.head() #A snippet of the first five rows of the dataset. "
   ]
  },
  {
   "cell_type": "code",
   "execution_count": 5,
   "id": "painful-pharmaceutical",
   "metadata": {},
   "outputs": [
    {
     "data": {
      "text/plain": [
       "labels     0\n",
       "message    0\n",
       "dtype: int64"
      ]
     },
     "execution_count": 5,
     "metadata": {},
     "output_type": "execute_result"
    }
   ],
   "source": [
    "dataset.isnull().sum() #Checking for missing values. This returns the number of missing values per column."
   ]
  },
  {
   "cell_type": "code",
   "execution_count": 6,
   "id": "general-logging",
   "metadata": {},
   "outputs": [
    {
     "data": {
      "text/html": [
       "<div>\n",
       "<style scoped>\n",
       "    .dataframe tbody tr th:only-of-type {\n",
       "        vertical-align: middle;\n",
       "    }\n",
       "\n",
       "    .dataframe tbody tr th {\n",
       "        vertical-align: top;\n",
       "    }\n",
       "\n",
       "    .dataframe thead th {\n",
       "        text-align: right;\n",
       "    }\n",
       "</style>\n",
       "<table border=\"1\" class=\"dataframe\">\n",
       "  <thead>\n",
       "    <tr style=\"text-align: right;\">\n",
       "      <th></th>\n",
       "      <th>labels</th>\n",
       "      <th>message</th>\n",
       "    </tr>\n",
       "  </thead>\n",
       "  <tbody>\n",
       "    <tr>\n",
       "      <th>count</th>\n",
       "      <td>5572</td>\n",
       "      <td>5572</td>\n",
       "    </tr>\n",
       "    <tr>\n",
       "      <th>unique</th>\n",
       "      <td>2</td>\n",
       "      <td>5169</td>\n",
       "    </tr>\n",
       "    <tr>\n",
       "      <th>top</th>\n",
       "      <td>ham</td>\n",
       "      <td>Sorry, I'll call later</td>\n",
       "    </tr>\n",
       "    <tr>\n",
       "      <th>freq</th>\n",
       "      <td>4825</td>\n",
       "      <td>30</td>\n",
       "    </tr>\n",
       "  </tbody>\n",
       "</table>\n",
       "</div>"
      ],
      "text/plain": [
       "       labels                 message\n",
       "count    5572                    5572\n",
       "unique      2                    5169\n",
       "top       ham  Sorry, I'll call later\n",
       "freq     4825                      30"
      ]
     },
     "execution_count": 6,
     "metadata": {},
     "output_type": "execute_result"
    }
   ],
   "source": [
    "dataset.describe() #Provides basic statistics of each column i.e Value count, Unique values count, Top frequency value etc"
   ]
  },
  {
   "cell_type": "code",
   "execution_count": 7,
   "id": "liable-engineer",
   "metadata": {},
   "outputs": [
    {
     "data": {
      "text/html": [
       "<div>\n",
       "<style scoped>\n",
       "    .dataframe tbody tr th:only-of-type {\n",
       "        vertical-align: middle;\n",
       "    }\n",
       "\n",
       "    .dataframe tbody tr th {\n",
       "        vertical-align: top;\n",
       "    }\n",
       "\n",
       "    .dataframe thead tr th {\n",
       "        text-align: left;\n",
       "    }\n",
       "\n",
       "    .dataframe thead tr:last-of-type th {\n",
       "        text-align: right;\n",
       "    }\n",
       "</style>\n",
       "<table border=\"1\" class=\"dataframe\">\n",
       "  <thead>\n",
       "    <tr>\n",
       "      <th></th>\n",
       "      <th colspan=\"4\" halign=\"left\">message</th>\n",
       "    </tr>\n",
       "    <tr>\n",
       "      <th></th>\n",
       "      <th>count</th>\n",
       "      <th>unique</th>\n",
       "      <th>top</th>\n",
       "      <th>freq</th>\n",
       "    </tr>\n",
       "    <tr>\n",
       "      <th>labels</th>\n",
       "      <th></th>\n",
       "      <th></th>\n",
       "      <th></th>\n",
       "      <th></th>\n",
       "    </tr>\n",
       "  </thead>\n",
       "  <tbody>\n",
       "    <tr>\n",
       "      <th>ham</th>\n",
       "      <td>4825</td>\n",
       "      <td>4516</td>\n",
       "      <td>Sorry, I'll call later</td>\n",
       "      <td>30</td>\n",
       "    </tr>\n",
       "    <tr>\n",
       "      <th>spam</th>\n",
       "      <td>747</td>\n",
       "      <td>653</td>\n",
       "      <td>Please call our customer service representativ...</td>\n",
       "      <td>4</td>\n",
       "    </tr>\n",
       "  </tbody>\n",
       "</table>\n",
       "</div>"
      ],
      "text/plain": [
       "       message                                                               \n",
       "         count unique                                                top freq\n",
       "labels                                                                       \n",
       "ham       4825   4516                             Sorry, I'll call later   30\n",
       "spam       747    653  Please call our customer service representativ...    4"
      ]
     },
     "execution_count": 7,
     "metadata": {},
     "output_type": "execute_result"
    }
   ],
   "source": [
    "dataset.groupby(\"labels\").describe() #Provides basic statistics of the 'labels' variable"
   ]
  },
  {
   "cell_type": "raw",
   "id": "43079fc1",
   "metadata": {},
   "source": [
    "There are a total of 4825 legit messages and 747 spam messages."
   ]
  },
  {
   "cell_type": "markdown",
   "id": "3c916d25",
   "metadata": {},
   "source": [
    "We now make a new column (feature) to detect how long the text messages are."
   ]
  },
  {
   "cell_type": "code",
   "execution_count": 8,
   "id": "pleasant-cradle",
   "metadata": {},
   "outputs": [
    {
     "data": {
      "text/html": [
       "<div>\n",
       "<style scoped>\n",
       "    .dataframe tbody tr th:only-of-type {\n",
       "        vertical-align: middle;\n",
       "    }\n",
       "\n",
       "    .dataframe tbody tr th {\n",
       "        vertical-align: top;\n",
       "    }\n",
       "\n",
       "    .dataframe thead th {\n",
       "        text-align: right;\n",
       "    }\n",
       "</style>\n",
       "<table border=\"1\" class=\"dataframe\">\n",
       "  <thead>\n",
       "    <tr style=\"text-align: right;\">\n",
       "      <th></th>\n",
       "      <th>labels</th>\n",
       "      <th>message</th>\n",
       "      <th>length</th>\n",
       "    </tr>\n",
       "  </thead>\n",
       "  <tbody>\n",
       "    <tr>\n",
       "      <th>0</th>\n",
       "      <td>ham</td>\n",
       "      <td>Go until jurong point, crazy.. Available only ...</td>\n",
       "      <td>111</td>\n",
       "    </tr>\n",
       "    <tr>\n",
       "      <th>1</th>\n",
       "      <td>ham</td>\n",
       "      <td>Ok lar... Joking wif u oni...</td>\n",
       "      <td>29</td>\n",
       "    </tr>\n",
       "    <tr>\n",
       "      <th>2</th>\n",
       "      <td>spam</td>\n",
       "      <td>Free entry in 2 a wkly comp to win FA Cup fina...</td>\n",
       "      <td>155</td>\n",
       "    </tr>\n",
       "    <tr>\n",
       "      <th>3</th>\n",
       "      <td>ham</td>\n",
       "      <td>U dun say so early hor... U c already then say...</td>\n",
       "      <td>49</td>\n",
       "    </tr>\n",
       "    <tr>\n",
       "      <th>4</th>\n",
       "      <td>ham</td>\n",
       "      <td>Nah I don't think he goes to usf, he lives aro...</td>\n",
       "      <td>61</td>\n",
       "    </tr>\n",
       "  </tbody>\n",
       "</table>\n",
       "</div>"
      ],
      "text/plain": [
       "  labels                                            message  length\n",
       "0    ham  Go until jurong point, crazy.. Available only ...     111\n",
       "1    ham                      Ok lar... Joking wif u oni...      29\n",
       "2   spam  Free entry in 2 a wkly comp to win FA Cup fina...     155\n",
       "3    ham  U dun say so early hor... U c already then say...      49\n",
       "4    ham  Nah I don't think he goes to usf, he lives aro...      61"
      ]
     },
     "execution_count": 8,
     "metadata": {},
     "output_type": "execute_result"
    }
   ],
   "source": [
    "dataset[\"length\"]=dataset[\"message\"].apply(len) #Appends a 'length' feature to our dataframe.\n",
    "dataset.head()"
   ]
  },
  {
   "cell_type": "markdown",
   "id": "7ed4c742",
   "metadata": {},
   "source": [
    "Let's visualize the length of the messages and compute some basic statistics thereafter. "
   ]
  },
  {
   "cell_type": "code",
   "execution_count": 9,
   "id": "backed-heating",
   "metadata": {},
   "outputs": [
    {
     "data": {
      "text/plain": [
       "<AxesSubplot:ylabel='Frequency'>"
      ]
     },
     "execution_count": 9,
     "metadata": {},
     "output_type": "execute_result"
    },
    {
     "data": {
      "image/png": "[encoded data removed]",
      "text/plain": [
       "<Figure size 432x288 with 1 Axes>"
      ]
     },
     "metadata": {
      "needs_background": "light"
     },
     "output_type": "display_data"
    }
   ],
   "source": [
    "dataset['length'].plot(bins=100, kind='hist', color='cyan') "
   ]
  },
  {
   "cell_type": "code",
   "execution_count": 10,
   "id": "cross-active",
   "metadata": {},
   "outputs": [
    {
     "data": {
      "text/plain": [
       "count    5572.000000\n",
       "mean       80.489950\n",
       "std        59.942907\n",
       "min         2.000000\n",
       "25%        36.000000\n",
       "50%        62.000000\n",
       "75%       122.000000\n",
       "max       910.000000\n",
       "Name: length, dtype: float64"
      ]
     },
     "execution_count": 10,
     "metadata": {},
     "output_type": "execute_result"
    }
   ],
   "source": [
    "dataset.length.describe()"
   ]
  },
  {
   "cell_type": "markdown",
   "id": "f75040be",
   "metadata": {},
   "source": [
    "Interestingly there is a whole message with a whooping 910 characters!! while the shortest message has only two characters... Lets identify them."
   ]
  },
  {
   "cell_type": "code",
   "execution_count": 11,
   "id": "rotary-citizen",
   "metadata": {},
   "outputs": [
    {
     "name": "stdout",
     "output_type": "stream",
     "text": [
      "Long SMS=> For me the love should start with attraction.i should feel that I need her every time around me.she should be the first thing which comes in my thoughts.I would start the day and end it with her.she should be there every time I dream.love will be then when my every breath has her name.my life should happen around her.my life will be named to her.I would cry for her.will give all my happiness and take all her sorrows.I will be ready to fight with anyone for her.I will be in love when I will be doing the craziest things for her.love will be when I don't have to proove anyone that my girl is the most beautiful lady on the whole planet.I will always be singing praises for her.love will be when I start up making chicken curry and end up makiing sambar.life will be the most beautiful then.will get every morning and thank god for the day because she is with me.I would like to say a lot..will tell later..\n",
      "****************************************************************************************\n",
      "Short SMS=> Ok\n"
     ]
    }
   ],
   "source": [
    "long_sms=dataset[dataset[\"length\"]==910][\"message\"].iloc[0]\n",
    "print('Long SMS=>', long_sms)\n",
    "print('****************************************************************************************')\n",
    "short_sms=dataset[dataset[\"length\"]==2][\"message\"].iloc[0]\n",
    "print('Short SMS=>',short_sms)"
   ]
  },
  {
   "cell_type": "markdown",
   "id": "3ab4647a",
   "metadata": {},
   "source": [
    "#### Class Balancing Check"
   ]
  },
  {
   "cell_type": "markdown",
   "id": "571ba86e",
   "metadata": {},
   "source": [
    "A quick pie chart plot with the respective pie percentages will do!"
   ]
  },
  {
   "cell_type": "code",
   "execution_count": 12,
   "id": "right-talent",
   "metadata": {},
   "outputs": [
    {
     "data": {
      "text/plain": [
       "<AxesSubplot:ylabel='labels'>"
      ]
     },
     "execution_count": 12,
     "metadata": {},
     "output_type": "execute_result"
    },
    {
     "data": {
      "image/png": "[encoded data removed]",
      "text/plain": [
       "<Figure size 432x288 with 1 Axes>"
      ]
     },
     "metadata": {},
     "output_type": "display_data"
    }
   ],
   "source": [
    "dataset[\"labels\"].value_counts().plot.pie(autopct='%1.1f%%')"
   ]
  },
  {
   "cell_type": "raw",
   "id": "b18c1be9",
   "metadata": {},
   "source": [
    "Only 13.4% of the total messages were spam while 86.6% of the total messages were ham.\n",
    "This implies that there is class imbalance in the data."
   ]
  },
  {
   "cell_type": "markdown",
   "id": "90701cd5",
   "metadata": {},
   "source": [
    "#### A plot of the length variable against the Target Variable classes\n"
   ]
  },
  {
   "cell_type": "markdown",
   "id": "8e212459",
   "metadata": {},
   "source": [
    "We visualize the message objects to see if message length is a distinguishing feature between ham and spam."
   ]
  },
  {
   "cell_type": "code",
   "execution_count": 13,
   "id": "local-defendant",
   "metadata": {},
   "outputs": [
    {
     "data": {
      "text/plain": [
       "<AxesSubplot:xlabel='labels', ylabel='length'>"
      ]
     },
     "execution_count": 13,
     "metadata": {},
     "output_type": "execute_result"
    },
    {
     "data": {
      "image/png": "[encoded data removed]",
      "text/plain": [
       "<Figure size 432x288 with 1 Axes>"
      ]
     },
     "metadata": {
      "needs_background": "light"
     },
     "output_type": "display_data"
    }
   ],
   "source": [
    "dataset_viz = dataset.copy()\n",
    "sns.violinplot(x=\"labels\", y=\"length\", data=dataset_viz)"
   ]
  },
  {
   "cell_type": "raw",
   "id": "94e8438e",
   "metadata": {},
   "source": [
    "There is a trend that spam messages tend to have more characters. Bulk of ham msgs has length below 100 word while for spam it is above 100 words or there about.\n"
   ]
  },
  {
   "cell_type": "markdown",
   "id": "moral-stuff",
   "metadata": {},
   "source": [
    "#### Word Clouds for Ham and Spam messages"
   ]
  },
  {
   "cell_type": "code",
   "execution_count": 14,
   "id": "twelve-advice",
   "metadata": {},
   "outputs": [
    {
     "data": {
      "image/png": "[encoded data removed]",
      "text/plain": [
       "<Figure size 432x288 with 1 Axes>"
      ]
     },
     "metadata": {
      "needs_background": "light"
     },
     "output_type": "display_data"
    }
   ],
   "source": [
    "spamtext=\"\"\n",
    "for text in dataset[\"message\"][dataset[\"labels\"]==\"spam\"]:\n",
    "    spamtext+=text\n",
    "\n",
    "spamcloud=WordCloud(background_color='lightgrey',colormap='viridis', width=1400, height=800 ).generate(spamtext)\n",
    "plt.figure()\n",
    "plt.imshow(spamcloud)\n",
    "plt.axis(\"off\")\n",
    "plt.show()"
   ]
  },
  {
   "cell_type": "markdown",
   "id": "heavy-species",
   "metadata": {},
   "source": [
    "The wordcloud gives us an idea on the frequency of words in the spam messages. The words; FREE, Call, txt, text, won, claim, now, mobile, TC, reply, and prize are the most frequent in spam messages. "
   ]
  },
  {
   "cell_type": "code",
   "execution_count": 15,
   "id": "missing-third",
   "metadata": {},
   "outputs": [
    {
     "data": {
      "image/png": "[encoded data removed]",
      "text/plain": [
       "<Figure size 432x288 with 1 Axes>"
      ]
     },
     "metadata": {
      "needs_background": "light"
     },
     "output_type": "display_data"
    }
   ],
   "source": [
    "hamtext=\"\"\n",
    "for text in dataset[\"message\"][dataset[\"labels\"]==\"ham\"]:\n",
    "    hamtext+=text\n",
    "\n",
    "hamcloud=WordCloud(background_color='lightgrey',colormap='viridis', width=1200, height=700 ).generate(hamtext)\n",
    "\n",
    "plt.figure()\n",
    "plt.imshow(hamcloud)\n",
    "plt.axis(\"off\")\n",
    "plt.show()\n"
   ]
  },
  {
   "cell_type": "raw",
   "id": "1b578d93",
   "metadata": {},
   "source": [
    "The wordcloud gives us an idea of the frequency of words in the ham messages. The words U, call, will, gt,go,got,now, know, ok, need, know, come, and want were the most frequent in Ham messages"
   ]
  },
  {
   "cell_type": "markdown",
   "id": "established-calculation",
   "metadata": {},
   "source": [
    "## 3. Data Pre-processing"
   ]
  },
  {
   "cell_type": "markdown",
   "id": "f878fa56",
   "metadata": {},
   "source": [
    "#### Feature Matrix and Target Varibale"
   ]
  },
  {
   "cell_type": "markdown",
   "id": "a0374def",
   "metadata": {},
   "source": [
    "First we first create a matrix of features and target variable vector. "
   ]
  },
  {
   "cell_type": "code",
   "execution_count": 16,
   "id": "e7fb3632",
   "metadata": {},
   "outputs": [
    {
     "name": "stdout",
     "output_type": "stream",
     "text": [
      "0       Go until jurong point, crazy.. Available only ...\n",
      "1                           Ok lar... Joking wif u oni...\n",
      "2       Free entry in 2 a wkly comp to win FA Cup fina...\n",
      "3       U dun say so early hor... U c already then say...\n",
      "4       Nah I don't think he goes to usf, he lives aro...\n",
      "                              ...                        \n",
      "5567    This is the 2nd time we have tried 2 contact u...\n",
      "5568                 Will ü b going to esplanade fr home?\n",
      "5569    Pity, * was in mood for that. So...any other s...\n",
      "5570    The guy did some bitching but I acted like i'd...\n",
      "5571                           Rofl. Its true to its name\n",
      "Name: message, Length: 5572, dtype: object\n"
     ]
    }
   ],
   "source": [
    "X=dataset[\"message\"] \n",
    "print(X)"
   ]
  },
  {
   "cell_type": "code",
   "execution_count": 17,
   "id": "c3b37610",
   "metadata": {},
   "outputs": [
    {
     "name": "stdout",
     "output_type": "stream",
     "text": [
      "0        ham\n",
      "1        ham\n",
      "2       spam\n",
      "3        ham\n",
      "4        ham\n",
      "        ... \n",
      "5567    spam\n",
      "5568     ham\n",
      "5569     ham\n",
      "5570     ham\n",
      "5571     ham\n",
      "Name: labels, Length: 5572, dtype: object\n"
     ]
    }
   ],
   "source": [
    "y=dataset[\"labels\"]\n",
    "print(y)"
   ]
  },
  {
   "cell_type": "markdown",
   "id": "e3cc0e26",
   "metadata": {},
   "source": [
    "#### Spliting the Data into Training and Test Sets"
   ]
  },
  {
   "cell_type": "markdown",
   "id": "43d800c3",
   "metadata": {},
   "source": [
    "Let's go ahead to split the data into a Training set on which Machine Learning classifiers will learn and a Test set that will be used to evaluate how good a particular model classifies unseen messages to either \"Ham\" or \"Spam\"."
   ]
  },
  {
   "cell_type": "code",
   "execution_count": 18,
   "id": "e0e7723e",
   "metadata": {},
   "outputs": [],
   "source": [
    "from sklearn.model_selection import train_test_split\n",
    "X_train, X_test, y_train, y_test=train_test_split(X,y, test_size=.25, random_state=42, stratify=y)"
   ]
  },
  {
   "cell_type": "markdown",
   "id": "a3d3c21d",
   "metadata": {},
   "source": [
    "### Feature Extraction"
   ]
  },
  {
   "cell_type": "markdown",
   "id": "d4b67fb0",
   "metadata": {},
   "source": [
    "In the recent times, text Analysis is a popular task in ML and its advancements in NLP and Computer Vision. However, we can not feed texts (words) directly into the  Machine Learning or Deep Learning models as the algorithms work on numbers. In this section we'll convert the raw messages (sequence of characters) into vectors of numbers in order to extract and produce feature representations that are appropriate for the type of NLP task that we will carry out. "
   ]
  },
  {
   "cell_type": "markdown",
   "id": "ba1b4391",
   "metadata": {},
   "source": [
    "First,we will make use of the resourceful NLTK library to create a preprocessor that will carryout such exercises as;\n",
    "1. Convert all text to lowecase\n",
    "2. Remove all punctuactions\n",
    "3. Excecute lemmatization/stemming of words"
   ]
  },
  {
   "cell_type": "markdown",
   "id": "66c184de",
   "metadata": {},
   "source": [
    "#### Importing the necessary helpers"
   ]
  },
  {
   "cell_type": "code",
   "execution_count": 19,
   "id": "3bdcc7ab",
   "metadata": {},
   "outputs": [],
   "source": [
    "import re #for regular expressions operations. A sequence of characters that forms a search pattern.\n",
    "from nltk.stem.porter import PorterStemmer"
   ]
  },
  {
   "cell_type": "markdown",
   "id": "b53a3285",
   "metadata": {},
   "source": [
    "#### Creating the preprocessor object"
   ]
  },
  {
   "cell_type": "code",
   "execution_count": 20,
   "id": "3d8bba22",
   "metadata": {},
   "outputs": [],
   "source": [
    "porter_stemmer = PorterStemmer()\n",
    "\n",
    "def stemming_tokenizer(str_input):\n",
    "    words = re.sub(r\"[^A-Za-z0-9\\-]\", \" \", str_input).lower().split()\n",
    "    words = [porter_stemmer.stem(word) for word in words]\n",
    "    return words"
   ]
  },
  {
   "cell_type": "markdown",
   "id": "2327b238",
   "metadata": {},
   "source": [
    "#### Vectorization and weighting"
   ]
  },
  {
   "cell_type": "markdown",
   "id": "d22e783f",
   "metadata": {},
   "source": [
    "We carry out feature extraction using Term frequency-Inverse document frequency (TF-IDF) Vectorizer. The TF-IDF  is based on the Bag of Words (BoW) model, which contains insights about the less relevant and more relevant words in a document. The TF-IDF value increases proportionally to the number of times a word appears in the document (TF) and is offset by the number of documents in the corpus that contain the word (IDF), which helps to adjust for the fact that some words appear more frequently in general e.g stop words. Therefore, The TF-IDF Vectorizer does both corpus vectorization and weighting to give more weightage to the words/tokens that are rare. "
   ]
  },
  {
   "cell_type": "markdown",
   "id": "04882346",
   "metadata": {},
   "source": [
    "#### Importing the TF-IDF Vectorizer and fitting and/or transforming it to our partioned feature matrix"
   ]
  },
  {
   "cell_type": "code",
   "execution_count": 21,
   "id": "0a486ca1",
   "metadata": {},
   "outputs": [],
   "source": [
    "from sklearn.feature_extraction.text import TfidfVectorizer\n",
    "tfidf_vect=TfidfVectorizer(tokenizer=stemming_tokenizer) #We use our previously constructed preprocessor as our tokenizer\n",
    "X_train_tfidf=tfidf_vect.fit_transform(X_train) \n",
    "X_test_tfidf=tfidf_vect.transform(X_test)"
   ]
  },
  {
   "cell_type": "markdown",
   "id": "c7a44050",
   "metadata": {},
   "source": [
    "## 4. Learning Classifiers"
   ]
  },
  {
   "cell_type": "markdown",
   "id": "76db95be",
   "metadata": {},
   "source": [
    "In this section different machine learning models spanning from probabilistic, non-probabilistic, to instance-based learners will be fitted and optimized through GridSearch Cross-Validation process. A full Classification report is generated, alongside a Confusion matrix, Accuracy score of the test set and the average Accuracy score across all cross-validations as well as the best Hyper-parameter value(s) that optimize the model. "
   ]
  },
  {
   "cell_type": "markdown",
   "id": "715d1f55",
   "metadata": {},
   "source": [
    "#### Importing Classifiers"
   ]
  },
  {
   "cell_type": "code",
   "execution_count": 22,
   "id": "c6be9217",
   "metadata": {},
   "outputs": [],
   "source": [
    "from sklearn.linear_model import LogisticRegression\n",
    "from sklearn.svm import SVC\n",
    "from sklearn.naive_bayes import MultinomialNB\n",
    "from sklearn.tree import DecisionTreeClassifier\n",
    "from sklearn.neighbors import KNeighborsClassifier\n",
    "from sklearn.ensemble import RandomForestClassifier\n",
    "from sklearn.ensemble import AdaBoostClassifier\n",
    "from xgboost import XGBClassifier\n",
    "from sklearn.metrics import confusion_matrix, accuracy_score,average_precision_score, classification_report, roc_auc_score, plot_precision_recall_curve\n",
    "from sklearn.model_selection import cross_val_score\n",
    "from sklearn.model_selection import GridSearchCV"
   ]
  },
  {
   "cell_type": "markdown",
   "id": "5d370439",
   "metadata": {},
   "source": [
    "#### a) Logistic Regression Classifier - (Grid Search Cross-Validation)"
   ]
  },
  {
   "cell_type": "code",
   "execution_count": 23,
   "id": "7bc5749b",
   "metadata": {},
   "outputs": [
    {
     "name": "stdout",
     "output_type": "stream",
     "text": [
      "Fitting 10 folds for each of 6 candidates, totalling 60 fits\n",
      "[[1206    0]\n",
      " [  13  174]]\n",
      "Accuracy:99.07 %\n",
      "              precision    recall  f1-score   support\n",
      "\n",
      "         ham       0.99      1.00      0.99      1206\n",
      "        spam       1.00      0.93      0.96       187\n",
      "\n",
      "    accuracy                           0.99      1393\n",
      "   macro avg       0.99      0.97      0.98      1393\n",
      "weighted avg       0.99      0.99      0.99      1393\n",
      "\n",
      "Best Accuracy: 98.23 %\n",
      "Best Parameters: {'C': 10}\n"
     ]
    }
   ],
   "source": [
    "parameters={'C':[0.1,0.5, 1,3,5,10]}\n",
    "logistic_clf=GridSearchCV(LogisticRegression(penalty='l2', random_state=0), parameters, cv=10, n_jobs=-1, verbose=1 )\n",
    "logistic_clf.fit(X_train_tfidf, y_train)\n",
    "LG_pred = logistic_clf.predict(X_test_tfidf)\n",
    "cm = confusion_matrix(y_test, LG_pred)\n",
    "print(cm)\n",
    "print(\"Accuracy:{:.2f} %\".format(accuracy_score(y_test, LG_pred)*100))\n",
    "print (classification_report(y_test, LG_pred))\n",
    "best_accuracy = logistic_clf.best_score_\n",
    "best_parameters =logistic_clf.best_params_\n",
    "print(\"Best Accuracy: {:.2f} %\".format(best_accuracy*100))\n",
    "print(\"Best Parameters:\", best_parameters)"
   ]
  },
  {
   "cell_type": "markdown",
   "id": "f9e97514",
   "metadata": {},
   "source": [
    "#### b) Support Vector  Classifier - (Grid Search Cross-Validation)"
   ]
  },
  {
   "cell_type": "code",
   "execution_count": 24,
   "id": "66d24407",
   "metadata": {},
   "outputs": [
    {
     "name": "stdout",
     "output_type": "stream",
     "text": [
      "Fitting 10 folds for each of 20 candidates, totalling 200 fits\n",
      "[[1205    1]\n",
      " [  10  177]]\n",
      "Accuracy:99.21 %\n",
      "              precision    recall  f1-score   support\n",
      "\n",
      "         ham       0.99      1.00      1.00      1206\n",
      "        spam       0.99      0.95      0.97       187\n",
      "\n",
      "    accuracy                           0.99      1393\n",
      "   macro avg       0.99      0.97      0.98      1393\n",
      "weighted avg       0.99      0.99      0.99      1393\n",
      "\n",
      "Best Accuracy: 98.47 %\n",
      "Best Parameters: {'C': 10, 'gamma': 0.1}\n"
     ]
    }
   ],
   "source": [
    "parameters={'C':[0.001, 0.01,1,10], 'gamma':[0.1,0.5,1,3,5]}\n",
    "#In this model, the l2 norm is implied\n",
    "svc_clf=GridSearchCV(SVC(kernel = 'rbf', random_state = 42), parameters, cv=10, n_jobs=-1, verbose=1 )\n",
    "svc_clf.fit(X_train_tfidf, y_train)\n",
    "SVC_pred = svc_clf.predict(X_test_tfidf)\n",
    "cm = confusion_matrix(y_test, SVC_pred)\n",
    "print(cm)\n",
    "print(\"Accuracy:{:.2f} %\".format(accuracy_score(y_test, SVC_pred)*100))\n",
    "print (classification_report(y_test, SVC_pred))\n",
    "best_accuracy = svc_clf.best_score_\n",
    "best_parameters = svc_clf.best_params_\n",
    "print(\"Best Accuracy: {:.2f} %\".format(best_accuracy*100))\n",
    "print(\"Best Parameters:\", best_parameters)"
   ]
  },
  {
   "cell_type": "markdown",
   "id": "768de1ac",
   "metadata": {},
   "source": [
    "#### c) Multinomial Naive Bayes' Classifier"
   ]
  },
  {
   "cell_type": "code",
   "execution_count": 25,
   "id": "d40d967f",
   "metadata": {},
   "outputs": [
    {
     "name": "stdout",
     "output_type": "stream",
     "text": [
      "[[1206    0]\n",
      " [  59  128]]\n",
      "              precision    recall  f1-score   support\n",
      "\n",
      "         ham       0.95      1.00      0.98      1206\n",
      "        spam       1.00      0.68      0.81       187\n",
      "\n",
      "    accuracy                           0.96      1393\n",
      "   macro avg       0.98      0.84      0.89      1393\n",
      "weighted avg       0.96      0.96      0.95      1393\n",
      "\n",
      "Best Accuracy 95.76 %\n"
     ]
    }
   ],
   "source": [
    "mnbayes_clf=MultinomialNB()\n",
    "mnbayes_clf.fit(X_train_tfidf, y_train)\n",
    "MNB_pred = mnbayes_clf.predict(X_test_tfidf)\n",
    "cm = confusion_matrix(y_test, MNB_pred)\n",
    "print(cm)\n",
    "accuracy=accuracy_score(y_test, MNB_pred)\n",
    "print (classification_report(y_test, MNB_pred))\n",
    "print('Best Accuracy', np.round((accuracy),4)*100, '%')"
   ]
  },
  {
   "cell_type": "markdown",
   "id": "59ff13ee",
   "metadata": {},
   "source": [
    "#### d) Decison Tree Classifier - (Grid Search Cross-Validation)"
   ]
  },
  {
   "cell_type": "code",
   "execution_count": 26,
   "id": "a002bf27",
   "metadata": {},
   "outputs": [
    {
     "name": "stdout",
     "output_type": "stream",
     "text": [
      "Fitting 10 folds for each of 23 candidates, totalling 230 fits\n",
      "[[1199    7]\n",
      " [  37  150]]\n",
      "Accuracy:96.84 %\n",
      "              precision    recall  f1-score   support\n",
      "\n",
      "         ham       0.97      0.99      0.98      1206\n",
      "        spam       0.96      0.80      0.87       187\n",
      "\n",
      "    accuracy                           0.97      1393\n",
      "   macro avg       0.96      0.90      0.93      1393\n",
      "weighted avg       0.97      0.97      0.97      1393\n",
      "\n",
      "Best Accuracy: 96.96 %\n",
      "Best Parameters: {'max_depth': 21}\n"
     ]
    }
   ],
   "source": [
    "parameters={'max_depth':np.arange(2,25)}\n",
    "dtree_clf=GridSearchCV(DecisionTreeClassifier(criterion='gini', random_state=0), parameters, cv=10, n_jobs=-1, verbose=1 )\n",
    "dtree_clf.fit(X_train_tfidf, y_train)\n",
    "DT_pred = dtree_clf.predict(X_test_tfidf)\n",
    "cm = confusion_matrix(y_test, DT_pred)\n",
    "print(cm)\n",
    "print(\"Accuracy:{:.2f} %\".format(accuracy_score(y_test, DT_pred)*100))\n",
    "print (classification_report(y_test, DT_pred))\n",
    "best_accuracy = dtree_clf.best_score_\n",
    "best_parameters = dtree_clf.best_params_\n",
    "print(\"Best Accuracy: {:.2f} %\".format(best_accuracy*100))\n",
    "print(\"Best Parameters:\", best_parameters)"
   ]
  },
  {
   "cell_type": "markdown",
   "id": "c8423950",
   "metadata": {},
   "source": [
    "#### e) K-Nearest Neighbor Classifier - (GridSearch Cross-Validation)"
   ]
  },
  {
   "cell_type": "code",
   "execution_count": 27,
   "id": "e39121ca",
   "metadata": {
    "scrolled": true
   },
   "outputs": [
    {
     "name": "stdout",
     "output_type": "stream",
     "text": [
      "Fitting 10 folds for each of 5 candidates, totalling 50 fits\n",
      "[[1199    7]\n",
      " [  37  150]]\n",
      "Accuracy:97.13 %\n",
      "              precision    recall  f1-score   support\n",
      "\n",
      "         ham       0.97      1.00      0.98      1206\n",
      "        spam       0.98      0.80      0.88       187\n",
      "\n",
      "    accuracy                           0.97      1393\n",
      "   macro avg       0.98      0.90      0.93      1393\n",
      "weighted avg       0.97      0.97      0.97      1393\n",
      "\n",
      "Best Accuracy: 96.87 %\n",
      "Best Parameters: {'n_neighbors': 5}\n"
     ]
    }
   ],
   "source": [
    "parameters={'n_neighbors':np.arange(1,10,2)}\n",
    "\n",
    "knn_clf=GridSearchCV(KNeighborsClassifier(algorithm='auto', weights='uniform', metric='minkowski',p=2 ), parameters, cv=10, n_jobs=-1, verbose=1 )\n",
    "knn_clf.fit(X_train_tfidf, y_train)\n",
    "KNN_pred = knn_clf.predict(X_test_tfidf)\n",
    "print(cm)\n",
    "print(\"Accuracy:{:.2f} %\".format(accuracy_score(y_test, KNN_pred)*100))\n",
    "print (classification_report(y_test, KNN_pred))\n",
    "best_accuracy = knn_clf.best_score_\n",
    "best_parameters = knn_clf.best_params_\n",
    "print(\"Best Accuracy: {:.2f} %\".format(best_accuracy*100))\n",
    "print(\"Best Parameters:\", best_parameters)"
   ]
  },
  {
   "cell_type": "markdown",
   "id": "ce0e2af2",
   "metadata": {},
   "source": [
    "#### f) Random Forest Classifier - (Grid Search Cross-Validation)"
   ]
  },
  {
   "cell_type": "code",
   "execution_count": 28,
   "id": "826e1545",
   "metadata": {},
   "outputs": [
    {
     "name": "stdout",
     "output_type": "stream",
     "text": [
      "Fitting 10 folds for each of 18 candidates, totalling 180 fits\n",
      "[[1206    0]\n",
      " [  36  151]]\n",
      "Accuracy:97.42 %\n",
      "              precision    recall  f1-score   support\n",
      "\n",
      "         ham       0.97      1.00      0.99      1206\n",
      "        spam       1.00      0.81      0.89       187\n",
      "\n",
      "    accuracy                           0.97      1393\n",
      "   macro avg       0.99      0.90      0.94      1393\n",
      "weighted avg       0.97      0.97      0.97      1393\n",
      "\n",
      "Best Accuracy: 98.09 %\n",
      "Best Parameters: {'n_estimators': 65}\n"
     ]
    }
   ],
   "source": [
    "parameters={'n_estimators': np.arange(10,100,5)}\n",
    "rforest_clf=GridSearchCV(RandomForestClassifier(criterion='gini', random_state=0), parameters, cv=10, n_jobs=-1, verbose=1)\n",
    "rforest_clf.fit(X_train_tfidf, y_train)\n",
    "RF_pred = rforest_clf.predict(X_test_tfidf)\n",
    "cm = confusion_matrix(y_test, RF_pred)\n",
    "print(cm)\n",
    "print(\"Accuracy:{:.2f} %\".format(accuracy_score(y_test, RF_pred)*100))\n",
    "print (classification_report(y_test, RF_pred))\n",
    "best_accuracy = rforest_clf.best_score_\n",
    "best_parameters = rforest_clf.best_params_\n",
    "print(\"Best Accuracy: {:.2f} %\".format(best_accuracy*100))\n",
    "print(\"Best Parameters:\", best_parameters)"
   ]
  },
  {
   "cell_type": "markdown",
   "id": "e2f5aa2c",
   "metadata": {},
   "source": [
    "#### g) AdaBoost Classifier  - (GridSearch Cross-Validation)"
   ]
  },
  {
   "cell_type": "code",
   "execution_count": 29,
   "id": "7cc34d04",
   "metadata": {
    "scrolled": true
   },
   "outputs": [
    {
     "name": "stdout",
     "output_type": "stream",
     "text": [
      "Fitting 10 folds for each of 45 candidates, totalling 450 fits\n",
      "[[1200    6]\n",
      " [  26  161]]\n",
      "Accuracy:97.70 %\n",
      "              precision    recall  f1-score   support\n",
      "\n",
      "         ham       0.98      1.00      0.99      1206\n",
      "        spam       0.96      0.86      0.91       187\n",
      "\n",
      "    accuracy                           0.98      1393\n",
      "   macro avg       0.97      0.93      0.95      1393\n",
      "weighted avg       0.98      0.98      0.98      1393\n",
      "\n",
      "Best Accuracy: 98.04 %\n",
      "Best Parameters: {'learning_rate': 1, 'n_estimators': 95}\n"
     ]
    }
   ],
   "source": [
    "parameters={'n_estimators': range(30,101,5),'learning_rate':[.5,1,2]}\n",
    "adaboost_clf=GridSearchCV(AdaBoostClassifier(random_state=0), parameters, cv=10, n_jobs=-1, verbose=1)\n",
    "adaboost_clf.fit(X_train_tfidf, y_train)\n",
    "ADAB_pred = adaboost_clf.predict(X_test_tfidf)\n",
    "cm = confusion_matrix(y_test, ADAB_pred)\n",
    "print(cm)\n",
    "print(\"Accuracy:{:.2f} %\".format(accuracy_score(y_test, ADAB_pred)*100))\n",
    "print (classification_report(y_test, ADAB_pred))\n",
    "best_accuracy = adaboost_clf.best_score_\n",
    "best_parameters = adaboost_clf.best_params_\n",
    "print(\"Best Accuracy: {:.2f} %\".format(best_accuracy*100))\n",
    "print(\"Best Parameters:\", best_parameters)"
   ]
  },
  {
   "cell_type": "markdown",
   "id": "605b835e",
   "metadata": {},
   "source": [
    "#### h) XGBoost Classifier - (Grid Search Cross-Validation)"
   ]
  },
  {
   "cell_type": "code",
   "execution_count": 30,
   "id": "91690432",
   "metadata": {},
   "outputs": [
    {
     "name": "stdout",
     "output_type": "stream",
     "text": [
      "Fitting 10 folds for each of 36 candidates, totalling 360 fits\n"
     ]
    },
    {
     "name": "stderr",
     "output_type": "stream",
     "text": [
      "C:\\Users\\Mutunga\\anaconda3\\lib\\site-packages\\xgboost\\sklearn.py:888: UserWarning: The use of label encoder in XGBClassifier is deprecated and will be removed in a future release. To remove this warning, do the following: 1) Pass option use_label_encoder=False when constructing XGBClassifier object; and 2) Encode your labels (y) as integers starting with 0, i.e. 0, 1, 2, ..., [num_class - 1].\n",
      "  warnings.warn(label_encoder_deprecation_msg, UserWarning)\n"
     ]
    },
    {
     "name": "stdout",
     "output_type": "stream",
     "text": [
      "[11:46:08] WARNING: C:/Users/Administrator/workspace/xgboost-win64_release_1.3.0/src/learner.cc:1061: Starting in XGBoost 1.3.0, the default evaluation metric used with the objective 'binary:logistic' was changed from 'error' to 'logloss'. Explicitly set eval_metric if you'd like to restore the old behavior.\n",
      "[[1199    7]\n",
      " [  22  165]]\n",
      "Accuracy:97.92 %\n",
      "              precision    recall  f1-score   support\n",
      "\n",
      "         ham       0.98      0.99      0.99      1206\n",
      "        spam       0.96      0.88      0.92       187\n",
      "\n",
      "    accuracy                           0.98      1393\n",
      "   macro avg       0.97      0.94      0.95      1393\n",
      "weighted avg       0.98      0.98      0.98      1393\n",
      "\n",
      "Best Accuracy: 98.01 %\n",
      "Best Parameters: {'gamma': 0.5, 'learning_rate': 0.5, 'reg_lambda': 5, 'scale_pos_weight': 5}\n"
     ]
    }
   ],
   "source": [
    "parameters={'learning_rate':[.5,1], 'gamma':[0,.5,1],\n",
    "             'reg_lambda':[5,10],'scale_pos_weight': [1,3,5]}\n",
    "xgb_clf=GridSearchCV(XGBClassifier( objective= 'binary:logistic',subsample=.9,random_state=42), \n",
    "                 parameters, cv=10, n_jobs=-1, verbose=1)\n",
    "xgb_clf.fit(X_train_tfidf, y_train)\n",
    "XGB_pred = xgb_clf.predict(X_test_tfidf)\n",
    "cm = confusion_matrix(y_test, XGB_pred)\n",
    "print(cm)\n",
    "print(\"Accuracy:{:.2f} %\".format(accuracy_score(y_test, XGB_pred)*100))\n",
    "print (classification_report(y_test, XGB_pred))\n",
    "best_accuracy = xgb_clf.best_score_\n",
    "best_parameters = xgb_clf.best_params_\n",
    "print(\"Best Accuracy: {:.2f} %\".format(best_accuracy*100))\n",
    "print(\"Best Parameters:\", best_parameters)"
   ]
  },
  {
   "cell_type": "markdown",
   "id": "8f63309f",
   "metadata": {},
   "source": [
    "## 5. Classification ML Pipelines"
   ]
  },
  {
   "cell_type": "markdown",
   "id": "43bde3ac",
   "metadata": {},
   "source": [
    "In this section, we create a Pipeline of Machine Learning workflow for each classifier. The Pipelines allow for an ensemble of all the ransformations carried out on the data for future use."
   ]
  },
  {
   "cell_type": "markdown",
   "id": "54af840f",
   "metadata": {},
   "source": [
    "#### Importing the Pipeline tool "
   ]
  },
  {
   "cell_type": "code",
   "execution_count": 31,
   "id": "e0f51aa4",
   "metadata": {},
   "outputs": [],
   "source": [
    "from sklearn.pipeline import Pipeline"
   ]
  },
  {
   "cell_type": "markdown",
   "id": "ec59eb79",
   "metadata": {},
   "source": [
    "#### Creating Pipelines with the necessary transformations on board for each model"
   ]
  },
  {
   "cell_type": "markdown",
   "id": "456eeea7",
   "metadata": {},
   "source": [
    "### a) Logistic Regression Classifier - GridSearchCV"
   ]
  },
  {
   "cell_type": "code",
   "execution_count": 32,
   "id": "7b21f638",
   "metadata": {},
   "outputs": [
    {
     "name": "stdout",
     "output_type": "stream",
     "text": [
      "Fitting 10 folds for each of 6 candidates, totalling 60 fits\n",
      "[[1206    0]\n",
      " [  13  174]]\n",
      "Predictions: ['ham' 'spam' 'ham' ... 'spam' 'ham' 'ham']\n",
      "              precision    recall  f1-score   support\n",
      "\n",
      "         ham       1.00      0.99      0.99      1219\n",
      "        spam       0.93      1.00      0.96       174\n",
      "\n",
      "    accuracy                           0.99      1393\n",
      "   macro avg       0.97      0.99      0.98      1393\n",
      "weighted avg       0.99      0.99      0.99      1393\n",
      "\n",
      "Accuracy Score: 99.07000000000001 %\n",
      "Best Cross-Validation Accuracy Score: 98.59 %\n",
      "Best Parameters: {'logistic_clf__C': 10}\n"
     ]
    }
   ],
   "source": [
    "pipe_lg = Pipeline([('tfidf_vect', TfidfVectorizer(tokenizer=stemming_tokenizer)),\n",
    "         ('logistic_clf', LogisticRegression(penalty='l2', random_state=0)),])\n",
    "\n",
    "parameters={'logistic_clf__C':[0.1,0.5, 1,3,5,10]} \n",
    "\n",
    "gridcv_LG = GridSearchCV(pipe_lg, param_grid=parameters, cv=10,\n",
    "                        n_jobs=-1, verbose=1)\n",
    "\n",
    "Pipe_LG=gridcv_LG.fit(X=X_train,y= y_train)\n",
    "\n",
    "LG_pred =gridcv_LG.predict(X_test)\n",
    "cm = confusion_matrix(y_test, LG_pred)\n",
    "print(cm)\n",
    "\n",
    "Acc_LG =np.round(accuracy_score(y_test, LG_pred),4)*100\n",
    "\n",
    "print('Predictions:', LG_pred)\n",
    "print(classification_report(LG_pred,y_test))\n",
    "print('Accuracy Score:', Acc_LG,'%')\n",
    "print(\"Best Cross-Validation Accuracy Score: {:.2f}\".format(gridcv_LG.best_score_*100),'%')\n",
    "print(\"Best Parameters:\", gridcv_LG.best_params_)\n"
   ]
  },
  {
   "cell_type": "markdown",
   "id": "6451afbf",
   "metadata": {},
   "source": [
    "### b) Support Vector Classifier - GridSearchCV"
   ]
  },
  {
   "cell_type": "code",
   "execution_count": 33,
   "id": "731522d6",
   "metadata": {},
   "outputs": [
    {
     "name": "stdout",
     "output_type": "stream",
     "text": [
      "Fitting 10 folds for each of 20 candidates, totalling 200 fits\n",
      "Predictions: ['ham' 'spam' 'ham' ... 'spam' 'ham' 'ham']\n",
      "              precision    recall  f1-score   support\n",
      "\n",
      "         ham       1.00      0.99      1.00      1215\n",
      "        spam       0.95      0.99      0.97       178\n",
      "\n",
      "    accuracy                           0.99      1393\n",
      "   macro avg       0.97      0.99      0.98      1393\n",
      "weighted avg       0.99      0.99      0.99      1393\n",
      "\n",
      "Accuracy Score: 99.21 %\n",
      "Best Cross-Validation Accuracy Score: 98.78 %\n",
      "Best Parameters: {'svc_clf__C': 10, 'svc_clf__gamma': 0.1}\n",
      "['ham']\n",
      "['spam']\n"
     ]
    }
   ],
   "source": [
    "pipe_svc = Pipeline([('tfidf_vect', TfidfVectorizer(tokenizer=stemming_tokenizer)),\n",
    "         ('svc_clf', SVC(kernel = 'rbf', random_state = 42))])\n",
    "\n",
    "parameters={'svc_clf__C':[0.001, 0.01,1,10], 'svc_clf__gamma':[0.1,0.5,1,3,5]}\n",
    "\n",
    "gridcv_SVC = GridSearchCV(pipe_svc, parameters, cv=10,\n",
    "                        n_jobs=-1, verbose=1)\n",
    "Pipe_SVC=gridcv_SVC.fit(X=X_train,y= y_train)\n",
    "\n",
    "SVC_pred =gridcv_SVC.predict(X_test)\n",
    "\n",
    "Acc_SVC =np.round(accuracy_score(y_test, SVC_pred),4)*100\n",
    "\n",
    "print('Predictions:', SVC_pred)\n",
    "print(classification_report(SVC_pred,y_test))\n",
    "print('Accuracy Score:', Acc_SVC,'%')\n",
    "print(\"Best Cross-Validation Accuracy Score: {:.2f}\".format(gridcv_SVC.best_score_*100),'%')\n",
    "print(\"Best Parameters:\", gridcv_SVC.best_params_)\n",
    "\n",
    "prediction1=Pipe_SVC.predict([\"Hi, how are you doing today?\"])\n",
    "print(prediction1)\n",
    "\n",
    "prediction2=Pipe_SVC.predict([\"Hello, Win! Win! Win!, Free tickects worth Ksh. 10,000. Call this number 12345 to claim your prize\"])\n",
    "print(prediction2)"
   ]
  },
  {
   "cell_type": "markdown",
   "id": "4246e6b7",
   "metadata": {},
   "source": [
    "### c) MultiNomial Naive Bayes' Classifier - GridSearchCV"
   ]
  },
  {
   "cell_type": "code",
   "execution_count": 34,
   "id": "585f20ab",
   "metadata": {},
   "outputs": [
    {
     "name": "stdout",
     "output_type": "stream",
     "text": [
      "Predictions: ['ham' 'ham' 'ham' ... 'spam' 'ham' 'ham']\n",
      "              precision    recall  f1-score   support\n",
      "\n",
      "         ham       1.00      0.95      0.98      1265\n",
      "        spam       0.68      1.00      0.81       128\n",
      "\n",
      "    accuracy                           0.96      1393\n",
      "   macro avg       0.84      0.98      0.89      1393\n",
      "weighted avg       0.97      0.96      0.96      1393\n",
      "\n",
      "Accuracy_Score: 95.76 %\n",
      "['ham']\n"
     ]
    }
   ],
   "source": [
    "pipe_mnb=Pipeline([('tfidf_vect', TfidfVectorizer(tokenizer=stemming_tokenizer)),\n",
    "         ('clf', MultinomialNB()),])\n",
    "Pipe_MNB=pipe_mnb.fit(X=X_train,y= y_train)\n",
    "MNB_pred =pipe_mnb.predict(X_test)\n",
    "Acc_MNB =np.round(accuracy_score(y_test, MNB_pred),4)*100\n",
    "print('Predictions:', MNB_pred)\n",
    "print(classification_report(MNB_pred,y_test))\n",
    "print('Accuracy_Score:', Acc_MNB,'%')\n",
    "\n",
    "predictions=Pipe_MNB.predict([\"Hi how are you doing today?\"])\n",
    "print(predictions)"
   ]
  },
  {
   "cell_type": "markdown",
   "id": "34c5e73c",
   "metadata": {},
   "source": [
    "### d) Decision Tree Classifier-GridSearchCV"
   ]
  },
  {
   "cell_type": "code",
   "execution_count": 35,
   "id": "3508e068",
   "metadata": {
    "scrolled": true
   },
   "outputs": [
    {
     "name": "stdout",
     "output_type": "stream",
     "text": [
      "Fitting 10 folds for each of 23 candidates, totalling 230 fits\n",
      "Predictions: ['ham' 'spam' 'ham' ... 'ham' 'ham' 'ham']\n",
      "              precision    recall  f1-score   support\n",
      "\n",
      "         ham       1.00      0.97      0.98      1240\n",
      "        spam       0.79      0.96      0.86       153\n",
      "\n",
      "    accuracy                           0.97      1393\n",
      "   macro avg       0.89      0.96      0.92      1393\n",
      "weighted avg       0.97      0.97      0.97      1393\n",
      "\n",
      "Accuracy Score: 96.7 %\n",
      "Best Cross-Validation Accuracy Score: 96.51 %\n",
      "Best Parameters: {'dtree_clf__max_depth': 24}\n"
     ]
    }
   ],
   "source": [
    "pipe_dtree = Pipeline([('tfidf_vect', TfidfVectorizer(tokenizer=stemming_tokenizer)),\n",
    "         ('dtree_clf', DecisionTreeClassifier(criterion='gini',random_state=0))])\n",
    "\n",
    "parameters={'dtree_clf__max_depth':np.arange(2,25)}\n",
    "\n",
    "gridcv_DT = GridSearchCV(pipe_dtree, parameters, cv=10,\n",
    "                        n_jobs=-1, verbose=1)\n",
    "Pipe_DT=gridcv_DT.fit(X=X_train,y= y_train)\n",
    "\n",
    "DT_pred =gridcv_DT.predict(X_test)\n",
    "\n",
    "Acc_DT =np.round(accuracy_score(y_test, DT_pred),4)*100\n",
    "\n",
    "print('Predictions:', DT_pred)\n",
    "print(classification_report(DT_pred,y_test))\n",
    "print('Accuracy Score:', Acc_DT,'%')\n",
    "print(\"Best Cross-Validation Accuracy Score: {:.2f}\".format(gridcv_DT.best_score_*100),'%')\n",
    "print(\"Best Parameters:\", gridcv_DT.best_params_)"
   ]
  },
  {
   "cell_type": "markdown",
   "id": "d0013b3d",
   "metadata": {},
   "source": [
    "#### e) K-Nearest Neighbor Classifier - GridSearchCV"
   ]
  },
  {
   "cell_type": "code",
   "execution_count": 36,
   "id": "ff3b8084",
   "metadata": {},
   "outputs": [
    {
     "name": "stdout",
     "output_type": "stream",
     "text": [
      "Fitting 10 folds for each of 5 candidates, totalling 50 fits\n",
      "Predictions: ['ham' 'ham' 'ham' ... 'spam' 'ham' 'ham']\n",
      "              precision    recall  f1-score   support\n",
      "\n",
      "         ham       1.00      0.97      0.98      1243\n",
      "        spam       0.80      0.99      0.88       150\n",
      "\n",
      "    accuracy                           0.97      1393\n",
      "   macro avg       0.90      0.98      0.93      1393\n",
      "weighted avg       0.98      0.97      0.97      1393\n",
      "\n",
      "Accuracy Score: 97.2 %\n",
      "Best Cross-Validation Accuracy Score: 96.87 %\n",
      "Best Parameters: {'knn_clf__n_neighbors': 5}\n"
     ]
    }
   ],
   "source": [
    "pipe_knn = Pipeline([('tfidf_vect', TfidfVectorizer(tokenizer=stemming_tokenizer)),\n",
    "         ('knn_clf', KNeighborsClassifier(algorithm='auto', weights='uniform', metric='minkowski',p=2))])\n",
    "\n",
    "parameters={'knn_clf__n_neighbors':np.arange(1,10,2)}\n",
    "\n",
    "gridcv_KNN = GridSearchCV(pipe_knn, parameters, cv=10,\n",
    "                        n_jobs=-1, verbose=1)\n",
    "Pipe_KNN=gridcv_KNN.fit(X=X_train,y= y_train)\n",
    "\n",
    "KNN_pred =gridcv_KNN.predict(X_test)\n",
    "\n",
    "Acc_KNN =np.round(accuracy_score(y_test, KNN_pred),4)*100\n",
    "\n",
    "print('Predictions:', KNN_pred)\n",
    "print(classification_report(KNN_pred,y_test))\n",
    "print('Accuracy Score:', Acc_KNN,'%')\n",
    "print(\"Best Cross-Validation Accuracy Score: {:.2f}\".format(gridcv_KNN.best_score_*100),'%')\n",
    "print(\"Best Parameters:\", gridcv_KNN.best_params_)"
   ]
  },
  {
   "cell_type": "markdown",
   "id": "3c3d3cef",
   "metadata": {},
   "source": [
    "### f) Random Forest Classifier - GridSearchCV"
   ]
  },
  {
   "cell_type": "code",
   "execution_count": 37,
   "id": "75104fa1",
   "metadata": {},
   "outputs": [
    {
     "name": "stdout",
     "output_type": "stream",
     "text": [
      "Fitting 10 folds for each of 18 candidates, totalling 180 fits\n",
      "Predictions: ['ham' 'spam' 'ham' ... 'spam' 'ham' 'ham']\n",
      "              precision    recall  f1-score   support\n",
      "\n",
      "         ham       1.00      0.97      0.99      1241\n",
      "        spam       0.81      1.00      0.90       152\n",
      "\n",
      "    accuracy                           0.97      1393\n",
      "   macro avg       0.91      0.99      0.94      1393\n",
      "weighted avg       0.98      0.97      0.98      1393\n",
      "\n",
      "Accuracy Score: 97.49 %\n",
      "Best Cross-Validation Accuracy Score: 98.01 %\n",
      "Best Parameters: {'rforest_clf__n_estimators': 35}\n"
     ]
    }
   ],
   "source": [
    "pipe_rforest = Pipeline([('tfidf_vect', TfidfVectorizer(tokenizer=stemming_tokenizer)),\n",
    "         ('rforest_clf', RandomForestClassifier(criterion='gini', random_state=0))])\n",
    "\n",
    "parameters={'rforest_clf__n_estimators': np.arange(10,100,5)}\n",
    "\n",
    "gridcv_RF = GridSearchCV(pipe_rforest, parameters, cv=10,\n",
    "                        n_jobs=-1, verbose=1)\n",
    "Pipe_RF=gridcv_RF.fit(X=X_train,y= y_train)\n",
    "\n",
    "RF_pred =gridcv_RF.predict(X_test)\n",
    "\n",
    "Acc_RF =np.round(accuracy_score(y_test, RF_pred),4)*100\n",
    "\n",
    "print('Predictions:', RF_pred)\n",
    "print(classification_report(RF_pred,y_test))\n",
    "print('Accuracy Score:', Acc_RF,'%')\n",
    "print(\"Best Cross-Validation Accuracy Score: {:.2f}\".format(gridcv_RF.best_score_*100),'%')\n",
    "print(\"Best Parameters:\", gridcv_RF.best_params_)"
   ]
  },
  {
   "cell_type": "markdown",
   "id": "c6035470",
   "metadata": {},
   "source": [
    "### g) AdaBoost Classifier - GridSearchCV"
   ]
  },
  {
   "cell_type": "code",
   "execution_count": 38,
   "id": "e2222bac",
   "metadata": {},
   "outputs": [
    {
     "name": "stdout",
     "output_type": "stream",
     "text": [
      "Fitting 10 folds for each of 45 candidates, totalling 450 fits\n",
      "Predictions: ['ham' 'spam' 'ham' ... 'spam' 'ham' 'ham']\n",
      "              precision    recall  f1-score   support\n",
      "\n",
      "         ham       1.00      0.98      0.99      1228\n",
      "        spam       0.86      0.97      0.91       165\n",
      "\n",
      "    accuracy                           0.98      1393\n",
      "   macro avg       0.93      0.97      0.95      1393\n",
      "weighted avg       0.98      0.98      0.98      1393\n",
      "\n",
      "Accuracy Score: 97.7 %\n",
      "Best Cross-Validation Accuracy Score: 97.97 %\n",
      "Best Parameters: {'adaboost_clf__learning_rate': 1, 'adaboost_clf__n_estimators': 75}\n"
     ]
    }
   ],
   "source": [
    "pipe_adaboost = Pipeline([('tfidf_vect', TfidfVectorizer(tokenizer=stemming_tokenizer)),\n",
    "         ('adaboost_clf', AdaBoostClassifier(random_state=42))])\n",
    "\n",
    "parameters={'adaboost_clf__n_estimators': range(30,101,5),'adaboost_clf__learning_rate':[.5,1,2]}\n",
    "\n",
    "gridcv_ADAB = GridSearchCV(pipe_adaboost, parameters, cv=10,\n",
    "                        n_jobs=-1, verbose=1)\n",
    "Pipe_ADAB=gridcv_ADAB.fit(X=X_train,y= y_train)\n",
    "\n",
    "ADAB_pred =gridcv_ADAB.predict(X_test)\n",
    "\n",
    "Acc_ADAB =np.round(accuracy_score(y_test, ADAB_pred),4)*100\n",
    "\n",
    "print('Predictions:', ADAB_pred)\n",
    "print(classification_report(ADAB_pred,y_test))\n",
    "print('Accuracy Score:', Acc_ADAB,'%')\n",
    "print(\"Best Cross-Validation Accuracy Score: {:.2f}\".format(gridcv_ADAB.best_score_*100),'%')\n",
    "print(\"Best Parameters:\", gridcv_ADAB.best_params_)"
   ]
  },
  {
   "cell_type": "markdown",
   "id": "07d3acd0",
   "metadata": {},
   "source": [
    "### h) XGBoost Classifier- GridSearch CV"
   ]
  },
  {
   "cell_type": "code",
   "execution_count": 39,
   "id": "d1f9357e",
   "metadata": {},
   "outputs": [
    {
     "name": "stdout",
     "output_type": "stream",
     "text": [
      "Fitting 10 folds for each of 36 candidates, totalling 360 fits\n"
     ]
    },
    {
     "name": "stderr",
     "output_type": "stream",
     "text": [
      "C:\\Users\\Mutunga\\anaconda3\\lib\\site-packages\\xgboost\\sklearn.py:888: UserWarning: The use of label encoder in XGBClassifier is deprecated and will be removed in a future release. To remove this warning, do the following: 1) Pass option use_label_encoder=False when constructing XGBClassifier object; and 2) Encode your labels (y) as integers starting with 0, i.e. 0, 1, 2, ..., [num_class - 1].\n",
      "  warnings.warn(label_encoder_deprecation_msg, UserWarning)\n"
     ]
    },
    {
     "name": "stdout",
     "output_type": "stream",
     "text": [
      "[12:18:07] WARNING: C:/Users/Administrator/workspace/xgboost-win64_release_1.3.0/src/learner.cc:1061: Starting in XGBoost 1.3.0, the default evaluation metric used with the objective 'binary:logistic' was changed from 'error' to 'logloss'. Explicitly set eval_metric if you'd like to restore the old behavior.\n",
      "Predictions: ['ham' 'ham' 'ham' ... 'spam' 'ham' 'ham']\n",
      "              precision    recall  f1-score   support\n",
      "\n",
      "         ham       1.00      0.98      0.99      1225\n",
      "        spam       0.87      0.96      0.91       168\n",
      "\n",
      "    accuracy                           0.98      1393\n",
      "   macro avg       0.93      0.97      0.95      1393\n",
      "weighted avg       0.98      0.98      0.98      1393\n",
      "\n",
      "Accuracy Score: 97.77 %\n",
      "Best Cross-Validation Accuracy Score: 97.92 %\n",
      "Best Parameters: {'xgb_clf__gamma': 0, 'xgb_clf__learning_rate': 0.5, 'xgb_clf__reg_lambda': 5, 'xgb_clf__scale_pos_weight': 3}\n"
     ]
    }
   ],
   "source": [
    "pipe_xgb = Pipeline([('tfidf_vect', TfidfVectorizer(tokenizer=stemming_tokenizer)),\n",
    "         ('xgb_clf',XGBClassifier(objective= 'binary:logistic',subsample=.9,random_state=0))])\n",
    "\n",
    "parameters={'xgb_clf__learning_rate':[.5,1], 'xgb_clf__gamma':[0,.5,1],\n",
    "             'xgb_clf__reg_lambda':[5,10],'xgb_clf__scale_pos_weight': [1,3,5]} #The last Balances -ve and +ves weighting in seperate rounds \n",
    "\n",
    "gridcv_XGB = GridSearchCV(pipe_xgb, parameters, cv=10,\n",
    "                        n_jobs=-1, verbose=1)\n",
    "Pipe_XGB=gridcv_XGB.fit(X=X_train,y= y_train)\n",
    "\n",
    "XGB_pred =gridcv_XGB.predict(X_test)\n",
    "\n",
    "Acc_XGB =np.round(accuracy_score(y_test, XGB_pred),4)*100\n",
    "\n",
    "print('Predictions:', XGB_pred)\n",
    "print(classification_report(XGB_pred,y_test))\n",
    "print('Accuracy Score:', Acc_XGB,'%')\n",
    "print(\"Best Cross-Validation Accuracy Score: {:.2f}\".format(gridcv_XGB.best_score_*100),'%')\n",
    "print(\"Best Parameters:\", gridcv_XGB.best_params_)"
   ]
  },
  {
   "cell_type": "markdown",
   "id": "38b2089a",
   "metadata": {},
   "source": [
    "### 6.  Results Comparison and Conclusion"
   ]
  },
  {
   "cell_type": "code",
   "execution_count": 40,
   "id": "51ba478f",
   "metadata": {},
   "outputs": [],
   "source": [
    "classifiers=['Logistic:','SVC:','MNB:', 'DTree:','K-NN:','RForest:','AdaBoost:','XGBoost:'] #list of classifers\n",
    "list_pred =[LG_pred, SVC_pred, MNB_pred, DT_pred,\n",
    "            KNN_pred, RF_pred, ADAB_pred, XGB_pred] #list of predictios\n",
    "dict_pred = dict(zip(classifiers, list_pred)) #dictionary of predictions per classifier"
   ]
  },
  {
   "cell_type": "code",
   "execution_count": 41,
   "id": "52b04fd6",
   "metadata": {},
   "outputs": [
    {
     "name": "stdout",
     "output_type": "stream",
     "text": [
      "Logistic:   99.07000000000001 %\n",
      "SVC:   99.21 %\n",
      "MNB:   95.76 %\n",
      "DTree:   96.7 %\n",
      "K-NN:   97.2 %\n",
      "RForest:   97.49 %\n",
      "AdaBoost:   97.7 %\n",
      "XGBoost:   97.77 %\n"
     ]
    }
   ],
   "source": [
    "dict_acc = {}\n",
    "for clf in classifiers:\n",
    "    dict_acc[clf] = accuracy_score(y_test, dict_pred[clf])\n",
    "for clf in classifiers:\n",
    "    print(clf, \" \" , np.round(dict_acc[clf],4)*100, '%')"
   ]
  },
  {
   "cell_type": "markdown",
   "id": "9c7e7225",
   "metadata": {},
   "source": [
    "From the Accuracy scores above, The Support Vector Classifier emergences the winner while the Logistc regression Classifier comes in close second. The K-NN and Ensemble learners have equally good scores while Decison trees and the Multinomial Naive Bayes were the least performing.\n",
    "\n",
    "However, since the data is highly imbalanced,  the Accuracy score which is simply the proportion of correct predictions over the total predictions is not an ideal measure to use. Imbalanced classification problems typically rate classification errors with the minority class as more important than those with the majority class. \n",
    "\n",
    "As a matter of fact, in our case the minority class (positives) is of great importance. We therefore need consider an alternative metric that focuses on the minority class such as; The Precison-Recall score. "
   ]
  },
  {
   "cell_type": "markdown",
   "id": "0d9a64e4",
   "metadata": {},
   "source": [
    "#### Precison-Recall Area Under Curve (PR-Curve) and score"
   ]
  },
  {
   "cell_type": "code",
   "execution_count": 45,
   "id": "84e6e21f",
   "metadata": {
    "scrolled": true
   },
   "outputs": [
    {
     "name": "stdout",
     "output_type": "stream",
     "text": [
      "Ordered Classifiers: ['Logistic', 'SVC', 'MNB', 'DTree', 'K-NN', 'RForest', 'AdaBoost', 'XGBoost']\n"
     ]
    },
    {
     "data": {
      "image/png": "[encoded data removed]",
      "text/plain": [
       "<Figure size 432x288 with 1 Axes>"
      ]
     },
     "metadata": {
      "needs_background": "light"
     },
     "output_type": "display_data"
    }
   ],
   "source": [
    "classifiers_names=['Logistic','SVC','MNB', 'DTree','K-NN','RForest','AdaBoost','XGBoost']\n",
    "\n",
    "learners=[Pipe_LG,Pipe_SVC,Pipe_MNB,Pipe_DT,Pipe_KNN,Pipe_RF,Pipe_ADAB,Pipe_XGB]\n",
    "fig, ax = plt.subplots()\n",
    "for l in learners:\n",
    "    plot_precision_recall_curve(l, X_test, y_test, ax=ax)\n",
    "    ax.axhline(0.9, c='k', ls=\"--\", lw=1, alpha=0.5)\n",
    "    ax.axvline(0.9, c='k', ls=\"--\", lw=1, alpha=0.5)\n",
    "    ax.set_title(\"Binary class Precision-Recall Curve: PR AUC\")\n",
    "print('Ordered Classifiers:',classifiers_names)"
   ]
  },
  {
   "cell_type": "markdown",
   "id": "88d00c42",
   "metadata": {},
   "source": [
    "This plot presents the different Areas Under Curve for the list classifiers with the corresponding AP Scores. Generally, the higher the PR-AUC score, the better a classifier performs for the given task. One way to measure the Precion Recall score is to find average precision (AP). According to the Sklearn documentation, AP is the weighted mean of precision achieved at each threshold, with the increase in recall from the previous threshold used as the weight.\n",
    "\n",
    "In our case we set a cap threshold of 0.9 for both recall and precison scores. All number of classifiers beat this thresholds other than the Decision Trees classifier (in red).\n",
    "The SVM and Logistic Regression classifiers are the best performing in this case the latter beating the former slighltly. The Random Forest classifier comes in second followed by the Multinomial Naive Bayes. The the K-NN algorithm and boosted ensemble learners perform more or less the same with AdaBoost having a slight edge over the rest. Decision Trees classifier is the worst performing.  "
   ]
  },
  {
   "cell_type": "code",
   "execution_count": 42,
   "id": "06f140c5",
   "metadata": {},
   "outputs": [],
   "source": [
    "def plot_confusion_matrix(y_true, y_pred):\n",
    "    mtx = confusion_matrix(y_true, y_pred)\n",
    "    sns.heatmap(mtx, annot=True, fmt='d', linewidths=.5,  \n",
    "                cmap=\"Blues\", square=True, cbar=False) \n",
    "    plt.ylabel('true label')\n",
    "    plt.xlabel('predicted label')"
   ]
  },
  {
   "cell_type": "code",
   "execution_count": 43,
   "id": "d6e11b9d",
   "metadata": {},
   "outputs": [],
   "source": [
    "def plot_all_confusion_matrices(y_true, dict_all_pred, str_title):\n",
    "    \n",
    "    classifiers = list(dict_all_pred.keys())\n",
    "    plt.figure(figsize=(10,7.5))\n",
    "    plt.suptitle(str_title, fontsize=20, fontweight='bold')\n",
    "    n=331\n",
    "\n",
    "    for clf in classifiers : \n",
    "        plt.subplot(n)\n",
    "        plot_confusion_matrix(y_true, dict_all_pred[clf])\n",
    "        plt.title(clf, fontweight='bold')\n",
    "        n+=1\n",
    "\n",
    "    plt.tight_layout()\n",
    "    plt.subplots_adjust(top=0.9)"
   ]
  },
  {
   "cell_type": "code",
   "execution_count": 44,
   "id": "a769b352",
   "metadata": {
    "scrolled": false
   },
   "outputs": [
    {
     "data": {
      "image/png": "[encoded data removed]",
      "text/plain": [
       "<Figure size 720x540 with 8 Axes>"
      ]
     },
     "metadata": {
      "needs_background": "light"
     },
     "output_type": "display_data"
    }
   ],
   "source": [
    " plot_all_confusion_matrices(y_test, dict_pred, \"Pipelines Confusion Matrix: Scoring = Accuracy\")"
   ]
  },
  {
   "cell_type": "markdown",
   "id": "0b32f9f0",
   "metadata": {},
   "source": [
    "#### Conclusion"
   ]
  },
  {
   "cell_type": "markdown",
   "id": "bccef2bd",
   "metadata": {},
   "source": [
    "The evaluation results from  this project point out on the need for an appropriate evaluation metric under any given situation. As the saying goes, \"A Machine Learning model is as good as it's evaluation metric\". A few observations can be made on the performance results based on the PR-Score.\n",
    "\n",
    "1. The SVC is fast and highly effective in high dimensional spaces and the option to use an RBF-kernel further compounds  the ability of this classifier to process data that is not linearly separable hence it's astounding performance.\n",
    "\n",
    "2. The Logistic classifier is a GLM that violets the assumptions of normality, linearlity and constant variance which makes it powerful to fit particular data that is non-linear and do so perfectly well.\n",
    "\n",
    "3. The Ensemble learners outperform the lone learner Desicion  Trees and this is due to the fact that the ensembling process used weak learners (Descion Trees) as bulding blocks for complex and stronger learners through bagging and boosting. This helps to mitigate against the Bias-Variance trade-off hence resulting in more efficient learners. Furthermore, Over complex Desicion Trees do not generalize well as they  are prone to over-fitting. "
   ]
  },
  {
   "cell_type": "code",
   "execution_count": null,
   "id": "a16d17d7",
   "metadata": {},
   "outputs": [],
   "source": []
  }
 ],
 "metadata": {
  "kernelspec": {
   "display_name": "Python 3",
   "language": "python",
   "name": "python3"
  },
  "language_info": {
   "codemirror_mode": {
    "name": "ipython",
    "version": 3
   },
   "file_extension": ".py",
   "mimetype": "text/x-python",
   "name": "python",
   "nbconvert_exporter": "python",
   "pygments_lexer": "ipython3",
   "version": "3.8.8"
  }
 },
 "nbformat": 4,
 "nbformat_minor": 5
}
